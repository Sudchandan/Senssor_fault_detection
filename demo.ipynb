{
 "cells": [
  {
   "cell_type": "code",
   "execution_count": 2,
   "metadata": {},
   "outputs": [],
   "source": [
    "from sensor.utils.main_utils import read_yaml_file"
   ]
  },
  {
   "cell_type": "code",
   "execution_count": 3,
   "metadata": {},
   "outputs": [],
   "source": [
    "file_path =\"D:\\project\\sensor-fault-detection_Sudesh\\config\\schema.yaml\""
   ]
  },
  {
   "cell_type": "code",
   "execution_count": 4,
   "metadata": {},
   "outputs": [],
   "source": [
    "schema_config = read_yaml_file(file_path=file_path)"
   ]
  },
  {
   "cell_type": "code",
   "execution_count": 5,
   "metadata": {},
   "outputs": [
    {
     "data": {
      "text/plain": [
       "164"
      ]
     },
     "execution_count": 5,
     "metadata": {},
     "output_type": "execute_result"
    }
   ],
   "source": [
    "len(schema_config[\"columns\"])"
   ]
  },
  {
   "cell_type": "code",
   "execution_count": 8,
   "metadata": {},
   "outputs": [],
   "source": [
    "# len(schema_config[\"columns\"]) == len(df.columns) # means all the columns are available in daataframe"
   ]
  },
  {
   "cell_type": "code",
   "execution_count": 9,
   "metadata": {},
   "outputs": [],
   "source": [
    "from scipy.stats import ks_2samp"
   ]
  },
  {
   "cell_type": "code",
   "execution_count": 10,
   "metadata": {},
   "outputs": [],
   "source": [
    "import numpy as np"
   ]
  },
  {
   "cell_type": "code",
   "execution_count": 11,
   "metadata": {},
   "outputs": [],
   "source": [
    "d1 = np.arange(10)\n",
    "d2 = np.arange(10)"
   ]
  },
  {
   "cell_type": "code",
   "execution_count": 12,
   "metadata": {},
   "outputs": [
    {
     "data": {
      "text/plain": [
       "array([0, 1, 2, 3, 4, 5, 6, 7, 8, 9])"
      ]
     },
     "execution_count": 12,
     "metadata": {},
     "output_type": "execute_result"
    }
   ],
   "source": [
    "d1"
   ]
  },
  {
   "cell_type": "code",
   "execution_count": 13,
   "metadata": {},
   "outputs": [
    {
     "data": {
      "text/plain": [
       "array([0, 1, 2, 3, 4, 5, 6, 7, 8, 9])"
      ]
     },
     "execution_count": 13,
     "metadata": {},
     "output_type": "execute_result"
    }
   ],
   "source": [
    "d2"
   ]
  },
  {
   "cell_type": "code",
   "execution_count": 14,
   "metadata": {},
   "outputs": [
    {
     "data": {
      "text/plain": [
       "KstestResult(statistic=0.0, pvalue=1.0, statistic_location=0, statistic_sign=1)"
      ]
     },
     "execution_count": 14,
     "metadata": {},
     "output_type": "execute_result"
    }
   ],
   "source": [
    "ks_2samp(d1,d2)#if p value less than 0.05 then it is not from same distribution "
   ]
  },
  {
   "cell_type": "code",
   "execution_count": 15,
   "metadata": {},
   "outputs": [],
   "source": [
    "d1 = np.arange(100,200)\n",
    "d2 = np.arange(10)"
   ]
  },
  {
   "cell_type": "code",
   "execution_count": 16,
   "metadata": {},
   "outputs": [
    {
     "data": {
      "text/plain": [
       "KstestResult(statistic=1.0, pvalue=4.2646072253826637e-14, statistic_location=9, statistic_sign=-1)"
      ]
     },
     "execution_count": 16,
     "metadata": {},
     "output_type": "execute_result"
    }
   ],
   "source": [
    "ks_2samp(d1,d2)#if p value less than 0.05 then it is not from same distribution "
   ]
  },
  {
   "cell_type": "code",
   "execution_count": 17,
   "metadata": {},
   "outputs": [],
   "source": [
    "test =  ks_2samp(d1,d2)#if p value less than 0.05 then it is not from same distribution "
   ]
  },
  {
   "cell_type": "code",
   "execution_count": 18,
   "metadata": {},
   "outputs": [
    {
     "data": {
      "text/plain": [
       "0"
      ]
     },
     "execution_count": 18,
     "metadata": {},
     "output_type": "execute_result"
    }
   ],
   "source": [
    "round(test.pvalue)"
   ]
  },
  {
   "cell_type": "code",
   "execution_count": 19,
   "metadata": {},
   "outputs": [],
   "source": [
    "training_file_path = r\"D:\\project\\sensor-fault-detection_Sudesh\\artifct\\05_26_2023_08_31_42\\data_ingestion\\ingested\\train.csv\""
   ]
  },
  {
   "cell_type": "code",
   "execution_count": 20,
   "metadata": {},
   "outputs": [],
   "source": [
    "testing_file_path = r\"D:\\project\\sensor-fault-detection_Sudesh\\artifct\\05_26_2023_08_31_42\\data_ingestion\\ingested\\test.csv\""
   ]
  },
  {
   "cell_type": "code",
   "execution_count": 21,
   "metadata": {},
   "outputs": [],
   "source": [
    "import pandas as pd"
   ]
  },
  {
   "cell_type": "code",
   "execution_count": 22,
   "metadata": {},
   "outputs": [],
   "source": [
    "train_df = pd.read_csv(training_file_path)"
   ]
  },
  {
   "cell_type": "code",
   "execution_count": 23,
   "metadata": {},
   "outputs": [],
   "source": [
    "test_df = pd.read_csv(testing_file_path)"
   ]
  },
  {
   "cell_type": "code",
   "execution_count": 24,
   "metadata": {},
   "outputs": [
    {
     "data": {
      "text/plain": [
       "Index(['class', 'aa_000', 'ab_000', 'ac_000', 'ad_000', 'ae_000', 'af_000',\n",
       "       'ag_000', 'ag_001', 'ag_002',\n",
       "       ...\n",
       "       'ee_001', 'ee_002', 'ee_003', 'ee_004', 'ee_005', 'ee_006', 'ee_007',\n",
       "       'ee_008', 'ee_009', 'ef_000'],\n",
       "      dtype='object', length=170)"
      ]
     },
     "execution_count": 24,
     "metadata": {},
     "output_type": "execute_result"
    }
   ],
   "source": [
    "train_df.columns"
   ]
  },
  {
   "cell_type": "code",
   "execution_count": 25,
   "metadata": {},
   "outputs": [
    {
     "data": {
      "text/plain": [
       "Index(['class', 'aa_000', 'ab_000', 'ac_000', 'ad_000', 'ae_000', 'af_000',\n",
       "       'ag_000', 'ag_001', 'ag_002',\n",
       "       ...\n",
       "       'ee_001', 'ee_002', 'ee_003', 'ee_004', 'ee_005', 'ee_006', 'ee_007',\n",
       "       'ee_008', 'ee_009', 'ef_000'],\n",
       "      dtype='object', length=170)"
      ]
     },
     "execution_count": 25,
     "metadata": {},
     "output_type": "execute_result"
    }
   ],
   "source": [
    "test_df.columns"
   ]
  },
  {
   "cell_type": "code",
   "execution_count": 26,
   "metadata": {},
   "outputs": [],
   "source": [
    "collumns =  list(train_df.columns)"
   ]
  },
  {
   "cell_type": "code",
   "execution_count": 27,
   "metadata": {},
   "outputs": [],
   "source": [
    "d1 =train_df[\"aa_000\"]\n",
    "d2 = test_df[\"aa_000\"]"
   ]
  },
  {
   "cell_type": "code",
   "execution_count": 28,
   "metadata": {},
   "outputs": [
    {
     "data": {
      "text/plain": [
       "KstestResult(statistic=0.015000000000000013, pvalue=0.7315716805706252, statistic_location=89008, statistic_sign=1)"
      ]
     },
     "execution_count": 28,
     "metadata": {},
     "output_type": "execute_result"
    }
   ],
   "source": [
    "ks_2samp(d1,d2)"
   ]
  },
  {
   "cell_type": "code",
   "execution_count": 29,
   "metadata": {},
   "outputs": [],
   "source": [
    "d1 =train_df[\"class\"]\n",
    "d2 = test_df[\"class\"]"
   ]
  },
  {
   "cell_type": "code",
   "execution_count": 30,
   "metadata": {},
   "outputs": [
    {
     "data": {
      "text/plain": [
       "KstestResult(statistic=0.0018269230769231148, pvalue=1.0, statistic_location='neg', statistic_sign=-1)"
      ]
     },
     "execution_count": 30,
     "metadata": {},
     "output_type": "execute_result"
    }
   ],
   "source": [
    "ks_2samp(d1,d2)"
   ]
  },
  {
   "cell_type": "code",
   "execution_count": 38,
   "metadata": {},
   "outputs": [],
   "source": [
    "from sensor.utils.main_utils import write_yaml_file"
   ]
  },
  {
   "cell_type": "code",
   "execution_count": 39,
   "metadata": {},
   "outputs": [],
   "source": [
    "def get_drift_report(base_df,current_df,threshold=0.05):\n",
    "    report ={}\n",
    "    for column in base_df.columns:\n",
    "        d1 = base_df[column]\n",
    "        d2  = current_df[column]\n",
    "        is_same_dist = ks_2samp(d1,d2)\n",
    "        if threshold<=is_same_dist.pvalue:\n",
    "            is_found=False\n",
    "        else:\n",
    "            is_found = True \n",
    "        report.update({column:{\n",
    "            \"p_value\":float(is_same_dist.pvalue),\n",
    "            \"drift_status\":is_found\n",
    "            \n",
    "            }})\n",
    "    return report"
   ]
  },
  {
   "cell_type": "code",
   "execution_count": 40,
   "metadata": {},
   "outputs": [],
   "source": [
    "drift_report = get_drift_report(train_df,test_df)"
   ]
  },
  {
   "cell_type": "code",
   "execution_count": 41,
   "metadata": {},
   "outputs": [
    {
     "data": {
      "text/plain": [
       "{'class': {'p_value': 1.0, 'drift_status': False},\n",
       " 'aa_000': {'p_value': 0.7315716805706252, 'drift_status': False},\n",
       " 'ab_000': {'p_value': 0.9998929211435529, 'drift_status': False},\n",
       " 'ac_000': {'p_value': 0.7459361117038344, 'drift_status': False},\n",
       " 'ad_000': {'p_value': 0.5200942444072, 'drift_status': False},\n",
       " 'ae_000': {'p_value': 0.9999999999923641, 'drift_status': False},\n",
       " 'af_000': {'p_value': 0.9999999999330814, 'drift_status': False},\n",
       " 'ag_000': {'p_value': 1.0, 'drift_status': False},\n",
       " 'ag_001': {'p_value': 1.0, 'drift_status': False},\n",
       " 'ag_002': {'p_value': 0.9999196531573533, 'drift_status': False},\n",
       " 'ag_003': {'p_value': 0.7387727360950032, 'drift_status': False},\n",
       " 'ag_004': {'p_value': 0.42626425849441774, 'drift_status': False},\n",
       " 'ag_005': {'p_value': 0.2952713342601774, 'drift_status': False},\n",
       " 'ag_006': {'p_value': 0.45210644723077575, 'drift_status': False},\n",
       " 'ag_007': {'p_value': 0.5484411143730079, 'drift_status': False},\n",
       " 'ag_008': {'p_value': 0.24812926732105645, 'drift_status': False},\n",
       " 'ag_009': {'p_value': 0.9021379531464657, 'drift_status': False},\n",
       " 'ah_000': {'p_value': 0.6139011472994759, 'drift_status': False},\n",
       " 'ai_000': {'p_value': 0.9937081660614553, 'drift_status': False},\n",
       " 'aj_000': {'p_value': 0.9996167977616787, 'drift_status': False},\n",
       " 'ak_000': {'p_value': 1.0, 'drift_status': False},\n",
       " 'al_000': {'p_value': 0.7315716805706252, 'drift_status': False},\n",
       " 'am_0': {'p_value': 0.6656242550070708, 'drift_status': False},\n",
       " 'an_000': {'p_value': 0.4855363202602573, 'drift_status': False},\n",
       " 'ao_000': {'p_value': 0.6730140690707409, 'drift_status': False},\n",
       " 'ap_000': {'p_value': 0.6434339973298004, 'drift_status': False},\n",
       " 'aq_000': {'p_value': 0.9644997126596241, 'drift_status': False},\n",
       " 'ar_000': {'p_value': 0.9999685240883422, 'drift_status': False},\n",
       " 'as_000': {'p_value': 1.0, 'drift_status': False},\n",
       " 'at_000': {'p_value': 0.933800002406974, 'drift_status': False},\n",
       " 'au_000': {'p_value': 1.0, 'drift_status': False},\n",
       " 'av_000': {'p_value': 0.3105786551598241, 'drift_status': False},\n",
       " 'ax_000': {'p_value': 0.33729281555703305, 'drift_status': False},\n",
       " 'ay_000': {'p_value': 1.0, 'drift_status': False},\n",
       " 'ay_001': {'p_value': 1.0, 'drift_status': False},\n",
       " 'ay_002': {'p_value': 1.0, 'drift_status': False},\n",
       " 'ay_003': {'p_value': 1.0, 'drift_status': False},\n",
       " 'ay_004': {'p_value': 0.9999999999999611, 'drift_status': False},\n",
       " 'ay_005': {'p_value': 0.7387727360950032, 'drift_status': False},\n",
       " 'ay_006': {'p_value': 0.4787553896369897, 'drift_status': False},\n",
       " 'ay_007': {'p_value': 0.8524548603740687, 'drift_status': False},\n",
       " 'ay_008': {'p_value': 0.18468125979954164, 'drift_status': False},\n",
       " 'ay_009': {'p_value': 0.9999999998200579, 'drift_status': False},\n",
       " 'az_000': {'p_value': 0.6508313781950039, 'drift_status': False},\n",
       " 'az_001': {'p_value': 0.6139011472994707, 'drift_status': False},\n",
       " 'az_002': {'p_value': 0.8402320502079885, 'drift_status': False},\n",
       " 'az_003': {'p_value': 0.5200942444072041, 'drift_status': False},\n",
       " 'az_004': {'p_value': 0.7671646125451751, 'drift_status': False},\n",
       " 'az_005': {'p_value': 0.9766902966608535, 'drift_status': False},\n",
       " 'az_006': {'p_value': 0.8212113952692112, 'drift_status': False},\n",
       " 'az_007': {'p_value': 0.8524548603740651, 'drift_status': False},\n",
       " 'az_008': {'p_value': 0.8866205479504506, 'drift_status': False},\n",
       " 'az_009': {'p_value': 1.0, 'drift_status': False},\n",
       " 'ba_000': {'p_value': 0.9644997126596224, 'drift_status': False},\n",
       " 'ba_001': {'p_value': 0.9416115134984412, 'drift_status': False},\n",
       " 'ba_002': {'p_value': 0.8756756110710021, 'drift_status': False},\n",
       " 'ba_003': {'p_value': 0.9806514606217018, 'drift_status': False},\n",
       " 'ba_004': {'p_value': 0.6656242550070708, 'drift_status': False},\n",
       " 'ba_005': {'p_value': 0.6877657213526761, 'drift_status': False},\n",
       " 'ba_006': {'p_value': 0.7741415274533747, 'drift_status': False},\n",
       " 'ba_007': {'p_value': 0.9453057463540241, 'drift_status': False},\n",
       " 'ba_008': {'p_value': 0.18823483095804938, 'drift_status': False},\n",
       " 'ba_009': {'p_value': 0.8584182864405403, 'drift_status': False},\n",
       " 'bb_000': {'p_value': 0.6212706792510958, 'drift_status': False},\n",
       " 'bc_000': {'p_value': 0.14311930776754833, 'drift_status': False},\n",
       " 'bd_000': {'p_value': 0.1165770424033401, 'drift_status': False},\n",
       " 'be_000': {'p_value': 0.025448549262193865, 'drift_status': True},\n",
       " 'bf_000': {'p_value': 0.9999196531573533, 'drift_status': False},\n",
       " 'bg_000': {'p_value': 0.6434339973297981, 'drift_status': False},\n",
       " 'bh_000': {'p_value': 0.8812061563863643, 'drift_status': False},\n",
       " 'bi_000': {'p_value': 0.8402320502079921, 'drift_status': False},\n",
       " 'bj_000': {'p_value': 0.7810627132584647, 'drift_status': False},\n",
       " 'bk_000': {'p_value': 0.864278448440253, 'drift_status': False},\n",
       " 'bl_000': {'p_value': 0.37719627238139286, 'drift_status': False},\n",
       " 'bm_000': {'p_value': 0.9338000024069728, 'drift_status': False},\n",
       " 'bn_000': {'p_value': 0.8081159288327568, 'drift_status': False},\n",
       " 'bo_000': {'p_value': 0.2394076612086039, 'drift_status': False},\n",
       " 'bp_000': {'p_value': 0.8339797427212484, 'drift_status': False},\n",
       " 'bq_000': {'p_value': 0.8524548603740678, 'drift_status': False},\n",
       " 'br_000': {'p_value': 0.9787336659840411, 'drift_status': False},\n",
       " 'bs_000': {'p_value': 0.8756756110710021, 'drift_status': False},\n",
       " 'bt_000': {'p_value': 0.5341969199783575, 'drift_status': False},\n",
       " 'bu_000': {'p_value': 0.6434339973298047, 'drift_status': False},\n",
       " 'bv_000': {'p_value': 0.6434339973298047, 'drift_status': False},\n",
       " 'bx_000': {'p_value': 0.7530582734960566, 'drift_status': False},\n",
       " 'by_000': {'p_value': 0.92968432468669, 'drift_status': False},\n",
       " 'bz_000': {'p_value': 0.8081159288327568, 'drift_status': False},\n",
       " 'ca_000': {'p_value': 0.9416115134984391, 'drift_status': False},\n",
       " 'cb_000': {'p_value': 0.7459361117038344, 'drift_status': False},\n",
       " 'cc_000': {'p_value': 0.6803955624963645, 'drift_status': False},\n",
       " 'cd_000': {'p_value': 1.0, 'drift_status': False},\n",
       " 'ce_000': {'p_value': 0.32108416010999563, 'drift_status': False},\n",
       " 'cf_000': {'p_value': 0.9999999998200579, 'drift_status': False},\n",
       " 'cg_000': {'p_value': 0.17773179045564247, 'drift_status': False},\n",
       " 'ch_000': {'p_value': 1.0, 'drift_status': False},\n",
       " 'ci_000': {'p_value': 0.6656242550070792, 'drift_status': False},\n",
       " 'cj_000': {'p_value': 0.8812061563863676, 'drift_status': False},\n",
       " 'ck_000': {'p_value': 0.613901147299475, 'drift_status': False},\n",
       " 'cl_000': {'p_value': 0.13745235845581472, 'drift_status': False},\n",
       " 'cm_000': {'p_value': 0.43264610815889604, 'drift_status': False},\n",
       " 'cn_000': {'p_value': 0.9999999998200579, 'drift_status': False},\n",
       " 'cn_001': {'p_value': 0.9118517069558668, 'drift_status': False},\n",
       " 'cn_002': {'p_value': 0.7315716805706252, 'drift_status': False},\n",
       " 'cn_003': {'p_value': 0.42626425849441774, 'drift_status': False},\n",
       " 'cn_004': {'p_value': 0.8339797427212465, 'drift_status': False},\n",
       " 'cn_005': {'p_value': 0.4012808874361774, 'drift_status': False},\n",
       " 'cn_006': {'p_value': 0.3428154556890787, 'drift_status': False},\n",
       " 'cn_007': {'p_value': 0.6139011472994791, 'drift_status': False},\n",
       " 'cn_008': {'p_value': 0.5918814906490356, 'drift_status': False},\n",
       " 'cn_009': {'p_value': 0.5341969199783656, 'drift_status': False},\n",
       " 'co_000': {'p_value': 0.6360396577321805, 'drift_status': False},\n",
       " 'cp_000': {'p_value': 0.4787553896369897, 'drift_status': False},\n",
       " 'cq_000': {'p_value': 0.6434339973298047, 'drift_status': False},\n",
       " 'cr_000': {'p_value': 0.9999999999766176, 'drift_status': False},\n",
       " 'cs_000': {'p_value': 0.7459361117038344, 'drift_status': False},\n",
       " 'cs_001': {'p_value': 0.933800002406974, 'drift_status': False},\n",
       " 'cs_002': {'p_value': 0.6434339973298047, 'drift_status': False},\n",
       " 'cs_003': {'p_value': 0.8014548104516578, 'drift_status': False},\n",
       " 'cs_004': {'p_value': 0.9070595779077439, 'drift_status': False},\n",
       " 'cs_005': {'p_value': 0.49236249023766554, 'drift_status': False},\n",
       " 'cs_006': {'p_value': 0.9958382678590897, 'drift_status': False},\n",
       " 'cs_007': {'p_value': 0.9884729325456457, 'drift_status': False},\n",
       " 'cs_008': {'p_value': 0.9118517069558668, 'drift_status': False},\n",
       " 'cs_009': {'p_value': 1.0, 'drift_status': False},\n",
       " 'ct_000': {'p_value': 0.4012808874361774, 'drift_status': False},\n",
       " 'cu_000': {'p_value': 0.8014548104516616, 'drift_status': False},\n",
       " 'cv_000': {'p_value': 0.4787553896369897, 'drift_status': False},\n",
       " 'cx_000': {'p_value': 0.3054161016510286, 'drift_status': False},\n",
       " 'cy_000': {'p_value': 0.9806514606217039, 'drift_status': False},\n",
       " 'cz_000': {'p_value': 0.2267578855343565, 'drift_status': False},\n",
       " 'da_000': {'p_value': 0.9999999999999998, 'drift_status': False},\n",
       " 'db_000': {'p_value': 0.9672082417560595, 'drift_status': False},\n",
       " 'dc_000': {'p_value': 0.4390809553809103, 'drift_status': False},\n",
       " 'dd_000': {'p_value': 0.5845789122722309, 'drift_status': False},\n",
       " 'de_000': {'p_value': 0.72433643281963, 'drift_status': False},\n",
       " 'df_000': {'p_value': 1.0, 'drift_status': False},\n",
       " 'dg_000': {'p_value': 0.999999994484897, 'drift_status': False},\n",
       " 'dh_000': {'p_value': 0.9999998448827656, 'drift_status': False},\n",
       " 'di_000': {'p_value': 0.8212113952692112, 'drift_status': False},\n",
       " 'dj_000': {'p_value': 1.0, 'drift_status': False},\n",
       " 'dk_000': {'p_value': 1.0, 'drift_status': False},\n",
       " 'dl_000': {'p_value': 1.0, 'drift_status': False},\n",
       " 'dm_000': {'p_value': 1.0, 'drift_status': False},\n",
       " 'dn_000': {'p_value': 0.8524548603740687, 'drift_status': False},\n",
       " 'do_000': {'p_value': 0.8866205479504536, 'drift_status': False},\n",
       " 'dp_000': {'p_value': 0.7810627132584647, 'drift_status': False},\n",
       " 'dq_000': {'p_value': 0.5628132453426072, 'drift_status': False},\n",
       " 'dr_000': {'p_value': 0.5992042183770455, 'drift_status': False},\n",
       " 'ds_000': {'p_value': 0.48553632026026095, 'drift_status': False},\n",
       " 'dt_000': {'p_value': 0.6434339973297981, 'drift_status': False},\n",
       " 'du_000': {'p_value': 0.9722157411402622, 'drift_status': False},\n",
       " 'dv_000': {'p_value': 0.7671646125451751, 'drift_status': False},\n",
       " 'dx_000': {'p_value': 0.49923267886982803, 'drift_status': False},\n",
       " 'dy_000': {'p_value': 0.8147026993041384, 'drift_status': False},\n",
       " 'dz_000': {'p_value': 1.0, 'drift_status': False},\n",
       " 'ea_000': {'p_value': 0.9994023679090489, 'drift_status': False},\n",
       " 'eb_000': {'p_value': 0.8919158348594425, 'drift_status': False},\n",
       " 'ec_00': {'p_value': 0.4586953682677829, 'drift_status': False},\n",
       " 'ed_000': {'p_value': 0.21461987621308276, 'drift_status': False},\n",
       " 'ee_000': {'p_value': 0.846391611876835, 'drift_status': False},\n",
       " 'ee_001': {'p_value': 0.3771962723813963, 'drift_status': False},\n",
       " 'ee_002': {'p_value': 0.3318299754560491, 'drift_status': False},\n",
       " 'ee_003': {'p_value': 0.7024596472447437, 'drift_status': False},\n",
       " 'ee_004': {'p_value': 0.852454860374067, 'drift_status': False},\n",
       " 'ee_005': {'p_value': 0.7459361117038344, 'drift_status': False},\n",
       " 'ee_006': {'p_value': 0.42626425849441774, 'drift_status': False},\n",
       " 'ee_007': {'p_value': 0.6139011472994791, 'drift_status': False},\n",
       " 'ee_008': {'p_value': 0.8919158348594456, 'drift_status': False},\n",
       " 'ee_009': {'p_value': 0.8866205479504569, 'drift_status': False},\n",
       " 'ef_000': {'p_value': 1.0, 'drift_status': False}}"
      ]
     },
     "execution_count": 41,
     "metadata": {},
     "output_type": "execute_result"
    }
   ],
   "source": [
    "drift_report"
   ]
  },
  {
   "cell_type": "code",
   "execution_count": 7,
   "metadata": {},
   "outputs": [],
   "source": [
    "import os"
   ]
  },
  {
   "cell_type": "code",
   "execution_count": 43,
   "metadata": {},
   "outputs": [],
   "source": [
    "write_yaml_file(file_path=os.path.join(os.getcwd(),\"report.yaml\"),content=drift_report,replace=True)"
   ]
  },
  {
   "cell_type": "code",
   "execution_count": 1,
   "metadata": {},
   "outputs": [],
   "source": [
    "from sensor.ml.model.estimator import TargetValueMapping"
   ]
  },
  {
   "cell_type": "code",
   "execution_count": 2,
   "metadata": {},
   "outputs": [
    {
     "data": {
      "text/plain": [
       "{'neg': 0, 'pos': 1}"
      ]
     },
     "execution_count": 2,
     "metadata": {},
     "output_type": "execute_result"
    }
   ],
   "source": [
    "TargetValueMapping().to_dict()"
   ]
  },
  {
   "cell_type": "code",
   "execution_count": 4,
   "metadata": {},
   "outputs": [
    {
     "data": {
      "text/plain": [
       "{0: 'neg', 1: 'pos'}"
      ]
     },
     "execution_count": 4,
     "metadata": {},
     "output_type": "execute_result"
    }
   ],
   "source": [
    "TargetValueMapping().reverse_mapping()"
   ]
  },
  {
   "cell_type": "code",
   "execution_count": null,
   "metadata": {},
   "outputs": [],
   "source": []
  },
  {
   "cell_type": "code",
   "execution_count": 2,
   "metadata": {},
   "outputs": [],
   "source": [
    "import pandas as pd"
   ]
  },
  {
   "cell_type": "code",
   "execution_count": 4,
   "metadata": {},
   "outputs": [],
   "source": [
    "df = pd.DataFrame([1,2])"
   ]
  },
  {
   "cell_type": "code",
   "execution_count": 5,
   "metadata": {},
   "outputs": [
    {
     "data": {
      "text/html": [
       "<div>\n",
       "<style scoped>\n",
       "    .dataframe tbody tr th:only-of-type {\n",
       "        vertical-align: middle;\n",
       "    }\n",
       "\n",
       "    .dataframe tbody tr th {\n",
       "        vertical-align: top;\n",
       "    }\n",
       "\n",
       "    .dataframe thead th {\n",
       "        text-align: right;\n",
       "    }\n",
       "</style>\n",
       "<table border=\"1\" class=\"dataframe\">\n",
       "  <thead>\n",
       "    <tr style=\"text-align: right;\">\n",
       "      <th></th>\n",
       "      <th>0</th>\n",
       "    </tr>\n",
       "  </thead>\n",
       "  <tbody>\n",
       "    <tr>\n",
       "      <th>0</th>\n",
       "      <td>1</td>\n",
       "    </tr>\n",
       "    <tr>\n",
       "      <th>1</th>\n",
       "      <td>2</td>\n",
       "    </tr>\n",
       "  </tbody>\n",
       "</table>\n",
       "</div>"
      ],
      "text/plain": [
       "   0\n",
       "0  1\n",
       "1  2"
      ]
     },
     "execution_count": 5,
     "metadata": {},
     "output_type": "execute_result"
    }
   ],
   "source": [
    "df"
   ]
  },
  {
   "cell_type": "code",
   "execution_count": 6,
   "metadata": {},
   "outputs": [],
   "source": [
    "df = pd.DataFrame([[1,2],[1,2]])"
   ]
  },
  {
   "cell_type": "code",
   "execution_count": 7,
   "metadata": {},
   "outputs": [
    {
     "data": {
      "text/html": [
       "<div>\n",
       "<style scoped>\n",
       "    .dataframe tbody tr th:only-of-type {\n",
       "        vertical-align: middle;\n",
       "    }\n",
       "\n",
       "    .dataframe tbody tr th {\n",
       "        vertical-align: top;\n",
       "    }\n",
       "\n",
       "    .dataframe thead th {\n",
       "        text-align: right;\n",
       "    }\n",
       "</style>\n",
       "<table border=\"1\" class=\"dataframe\">\n",
       "  <thead>\n",
       "    <tr style=\"text-align: right;\">\n",
       "      <th></th>\n",
       "      <th>0</th>\n",
       "      <th>1</th>\n",
       "    </tr>\n",
       "  </thead>\n",
       "  <tbody>\n",
       "    <tr>\n",
       "      <th>0</th>\n",
       "      <td>1</td>\n",
       "      <td>2</td>\n",
       "    </tr>\n",
       "    <tr>\n",
       "      <th>1</th>\n",
       "      <td>1</td>\n",
       "      <td>2</td>\n",
       "    </tr>\n",
       "  </tbody>\n",
       "</table>\n",
       "</div>"
      ],
      "text/plain": [
       "   0  1\n",
       "0  1  2\n",
       "1  1  2"
      ]
     },
     "execution_count": 7,
     "metadata": {},
     "output_type": "execute_result"
    }
   ],
   "source": [
    "df"
   ]
  },
  {
   "cell_type": "code",
   "execution_count": 9,
   "metadata": {},
   "outputs": [
    {
     "data": {
      "text/html": [
       "<div>\n",
       "<style scoped>\n",
       "    .dataframe tbody tr th:only-of-type {\n",
       "        vertical-align: middle;\n",
       "    }\n",
       "\n",
       "    .dataframe tbody tr th {\n",
       "        vertical-align: top;\n",
       "    }\n",
       "\n",
       "    .dataframe thead th {\n",
       "        text-align: right;\n",
       "    }\n",
       "</style>\n",
       "<table border=\"1\" class=\"dataframe\">\n",
       "  <thead>\n",
       "    <tr style=\"text-align: right;\">\n",
       "      <th></th>\n",
       "      <th>0</th>\n",
       "      <th>1</th>\n",
       "    </tr>\n",
       "  </thead>\n",
       "  <tbody>\n",
       "    <tr>\n",
       "      <th>0</th>\n",
       "      <td>1</td>\n",
       "      <td>2</td>\n",
       "    </tr>\n",
       "    <tr>\n",
       "      <th>1</th>\n",
       "      <td>1</td>\n",
       "      <td>2</td>\n",
       "    </tr>\n",
       "    <tr>\n",
       "      <th>0</th>\n",
       "      <td>1</td>\n",
       "      <td>2</td>\n",
       "    </tr>\n",
       "    <tr>\n",
       "      <th>1</th>\n",
       "      <td>1</td>\n",
       "      <td>2</td>\n",
       "    </tr>\n",
       "  </tbody>\n",
       "</table>\n",
       "</div>"
      ],
      "text/plain": [
       "   0  1\n",
       "0  1  2\n",
       "1  1  2\n",
       "0  1  2\n",
       "1  1  2"
      ]
     },
     "execution_count": 9,
     "metadata": {},
     "output_type": "execute_result"
    }
   ],
   "source": [
    "pd.concat([df,df])"
   ]
  },
  {
   "cell_type": "code",
   "execution_count": null,
   "metadata": {},
   "outputs": [],
   "source": []
  }
 ],
 "metadata": {
  "kernelspec": {
   "display_name": "Python 3",
   "language": "python",
   "name": "python3"
  },
  "language_info": {
   "codemirror_mode": {
    "name": "ipython",
    "version": 3
   },
   "file_extension": ".py",
   "mimetype": "text/x-python",
   "name": "python",
   "nbconvert_exporter": "python",
   "pygments_lexer": "ipython3",
   "version": "3.8.0"
  },
  "orig_nbformat": 4
 },
 "nbformat": 4,
 "nbformat_minor": 2
}
